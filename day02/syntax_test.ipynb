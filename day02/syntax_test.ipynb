{
 "cells": [
  {
   "cell_type": "code",
   "execution_count": 6,
   "metadata": {},
   "outputs": [
    {
     "ename": "SyntaxError",
     "evalue": "invalid syntax (2729040541.py, line 1)",
     "output_type": "error",
     "traceback": [
      "\u001b[1;36m  Input \u001b[1;32mIn [6]\u001b[1;36m\u001b[0m\n\u001b[1;33m    beautifulsoup 테스트\u001b[0m\n\u001b[1;37m                  ^\u001b[0m\n\u001b[1;31mSyntaxError\u001b[0m\u001b[1;31m:\u001b[0m invalid syntax\n"
     ]
    }
   ],
   "source": [
    "beautifulsoup 테스트"
   ]
  },
  {
   "cell_type": "code",
   "execution_count": 7,
   "metadata": {},
   "outputs": [],
   "source": [
    "from bs4 import BeautifulSoup"
   ]
  },
  {
   "cell_type": "code",
   "execution_count": 8,
   "metadata": {},
   "outputs": [
    {
     "data": {
      "text/plain": [
       "'<h1 id=\"title\">한빛출판네트워크</h1><div class=\"top\"><ulclass=\"menu\"><li><a href=http://www.hanbit.co.kr/member/login.htmlclass=\"login\">로그인 </a></li></ul><ul class=\"brand\"><li><a href=\"http://www. hanbit.co.kr/media/>한빛미디어<li><a href=\"http://www.hanbit.co.kr/academy/\">한빛아카데미</a></li></ul></div>'"
      ]
     },
     "execution_count": 8,
     "metadata": {},
     "output_type": "execute_result"
    }
   ],
   "source": [
    "# 연습용 html 작성\n",
    "html = '<h1 id=\"title\">한빛출판네트워크</h1><div class=\"top\"><ulclass=\"menu\"><li><a href=http://www.hanbit.co.kr/member/login.htmlclass=\"login\">로그인 </a></li></ul><ul class=\"brand\"><li><a href=\"http://www. hanbit.co.kr/media/>한빛미디어<li><a href=\"http://www.hanbit.co.kr/academy/\">한빛아카데미</a></li></ul></div>'\n",
    "\n",
    "html"
   ]
  },
  {
   "cell_type": "code",
   "execution_count": 10,
   "metadata": {},
   "outputs": [
    {
     "data": {
      "text/plain": [
       "<h1 id=\"title\">한빛출판네트워크</h1><div class=\"top\"><ulclass=\"menu\"><li><a href='http://www.hanbit.co.kr/member/login.htmlclass=\"login\"'>로그인 </a></li><ul class=\"brand\"><li><a \"=\"\" academy=\"\" href=\"http://www. hanbit.co.kr/media/&gt;한빛미디어&lt;li&gt;&lt;a href=\" http:=\"\" www.hanbit.co.kr=\"\">한빛아카데미</a></li></ul></ulclass=\"menu\"></div>"
      ]
     },
     "execution_count": 10,
     "metadata": {},
     "output_type": "execute_result"
    }
   ],
   "source": [
    "#객체로 변환시켜줌\n",
    "soup = BeautifulSoup(html, 'html.parser')\n",
    "\n",
    "soup"
   ]
  },
  {
   "cell_type": "code",
   "execution_count": 12,
   "metadata": {},
   "outputs": [
    {
     "name": "stdout",
     "output_type": "stream",
     "text": [
      "<h1 id=\"title\">\n",
      " 한빛출판네트워크\n",
      "</h1>\n",
      "<div class=\"top\">\n",
      " <ulclass=\"menu\">\n",
      "  <li>\n",
      "   <a href='http://www.hanbit.co.kr/member/login.htmlclass=\"login\"'>\n",
      "    로그인\n",
      "   </a>\n",
      "  </li>\n",
      "  <ul class=\"brand\">\n",
      "   <li>\n",
      "    <a \"=\"\" academy=\"\" href=\"http://www. hanbit.co.kr/media/&gt;한빛미디어&lt;li&gt;&lt;a href=\" http:=\"\" www.hanbit.co.kr=\"\">\n",
      "     한빛아카데미\n",
      "    </a>\n",
      "   </li>\n",
      "  </ul>\n",
      " </ulclass=\"menu\">\n",
      "</div>\n"
     ]
    }
   ],
   "source": [
    "print(soup.prettify())"
   ]
  },
  {
   "cell_type": "code",
   "execution_count": 13,
   "metadata": {},
   "outputs": [
    {
     "data": {
      "text/plain": [
       "<h1 id=\"title\">한빛출판네트워크</h1>"
      ]
     },
     "execution_count": 13,
     "metadata": {},
     "output_type": "execute_result"
    }
   ],
   "source": [
    "soup.h1"
   ]
  },
  {
   "cell_type": "code",
   "execution_count": 14,
   "metadata": {},
   "outputs": [
    {
     "data": {
      "text/plain": [
       "<div class=\"top\"><ulclass=\"menu\"><li><a href='http://www.hanbit.co.kr/member/login.htmlclass=\"login\"'>로그인 </a></li><ul class=\"brand\"><li><a \"=\"\" academy=\"\" href=\"http://www. hanbit.co.kr/media/&gt;한빛미디어&lt;li&gt;&lt;a href=\" http:=\"\" www.hanbit.co.kr=\"\">한빛아카데미</a></li></ul></ulclass=\"menu\"></div>"
      ]
     },
     "execution_count": 14,
     "metadata": {},
     "output_type": "execute_result"
    }
   ],
   "source": [
    "soup.div"
   ]
  },
  {
   "cell_type": "code",
   "execution_count": 15,
   "metadata": {},
   "outputs": [
    {
     "data": {
      "text/plain": [
       "<ul class=\"brand\"><li><a \"=\"\" academy=\"\" href=\"http://www. hanbit.co.kr/media/&gt;한빛미디어&lt;li&gt;&lt;a href=\" http:=\"\" www.hanbit.co.kr=\"\">한빛아카데미</a></li></ul>"
      ]
     },
     "execution_count": 15,
     "metadata": {},
     "output_type": "execute_result"
    }
   ],
   "source": [
    "soup.div.ul"
   ]
  },
  {
   "cell_type": "code",
   "execution_count": 16,
   "metadata": {},
   "outputs": [
    {
     "data": {
      "text/plain": [
       "<li><a \"=\"\" academy=\"\" href=\"http://www. hanbit.co.kr/media/&gt;한빛미디어&lt;li&gt;&lt;a href=\" http:=\"\" www.hanbit.co.kr=\"\">한빛아카데미</a></li>"
      ]
     },
     "execution_count": 16,
     "metadata": {},
     "output_type": "execute_result"
    }
   ],
   "source": [
    "soup.div.ul.li"
   ]
  },
  {
   "cell_type": "code",
   "execution_count": 17,
   "metadata": {},
   "outputs": [
    {
     "data": {
      "text/plain": [
       "<a \"=\"\" academy=\"\" href=\"http://www. hanbit.co.kr/media/&gt;한빛미디어&lt;li&gt;&lt;a href=\" http:=\"\" www.hanbit.co.kr=\"\">한빛아카데미</a>"
      ]
     },
     "execution_count": 17,
     "metadata": {},
     "output_type": "execute_result"
    }
   ],
   "source": [
    "soup.div.ul.li.a"
   ]
  },
  {
   "cell_type": "code",
   "execution_count": 18,
   "metadata": {},
   "outputs": [
    {
     "data": {
      "text/plain": [
       "<li><a href='http://www.hanbit.co.kr/member/login.htmlclass=\"login\"'>로그인 </a></li>"
      ]
     },
     "execution_count": 18,
     "metadata": {},
     "output_type": "execute_result"
    }
   ],
   "source": [
    "soup.find('li')"
   ]
  },
  {
   "cell_type": "code",
   "execution_count": 19,
   "metadata": {},
   "outputs": [
    {
     "data": {
      "text/plain": [
       "[<li><a href='http://www.hanbit.co.kr/member/login.htmlclass=\"login\"'>로그인 </a></li>,\n",
       " <li><a \"=\"\" academy=\"\" href=\"http://www. hanbit.co.kr/media/&gt;한빛미디어&lt;li&gt;&lt;a href=\" http:=\"\" www.hanbit.co.kr=\"\">한빛아카데미</a></li>]"
      ]
     },
     "execution_count": 19,
     "metadata": {},
     "output_type": "execute_result"
    }
   ],
   "source": [
    "soup.find_all('li')"
   ]
  },
  {
   "cell_type": "code",
   "execution_count": 20,
   "metadata": {},
   "outputs": [
    {
     "data": {
      "text/plain": [
       "<a href='http://www.hanbit.co.kr/member/login.htmlclass=\"login\"'>로그인 </a>"
      ]
     },
     "execution_count": 20,
     "metadata": {},
     "output_type": "execute_result"
    }
   ],
   "source": [
    "tag_a = soup.a\n",
    "tag_a"
   ]
  },
  {
   "cell_type": "code",
   "execution_count": 21,
   "metadata": {},
   "outputs": [
    {
     "data": {
      "text/plain": [
       "{'href': 'http://www.hanbit.co.kr/member/login.htmlclass=\"login\"'}"
      ]
     },
     "execution_count": 21,
     "metadata": {},
     "output_type": "execute_result"
    }
   ],
   "source": [
    "tag_a.attrs"
   ]
  },
  {
   "cell_type": "code",
   "execution_count": 22,
   "metadata": {},
   "outputs": [
    {
     "data": {
      "text/plain": [
       "'http://www.hanbit.co.kr/member/login.htmlclass=\"login\"'"
      ]
     },
     "execution_count": 22,
     "metadata": {},
     "output_type": "execute_result"
    }
   ],
   "source": [
    "tag_a['href']"
   ]
  },
  {
   "cell_type": "code",
   "execution_count": 23,
   "metadata": {},
   "outputs": [
    {
     "ename": "KeyError",
     "evalue": "'class'",
     "output_type": "error",
     "traceback": [
      "\u001b[1;31m---------------------------------------------------------------------------\u001b[0m",
      "\u001b[1;31mKeyError\u001b[0m                                  Traceback (most recent call last)",
      "\u001b[1;32mc:\\localRepository\\StudyBigData\\day02\\syntax_test.ipynb 셀 16\u001b[0m in \u001b[0;36m<cell line: 1>\u001b[1;34m()\u001b[0m\n\u001b[1;32m----> <a href='vscode-notebook-cell:/c%3A/localRepository/StudyBigData/day02/syntax_test.ipynb#ch0000017?line=0'>1</a>\u001b[0m tag_a[\u001b[39m'\u001b[39;49m\u001b[39mclass\u001b[39;49m\u001b[39m'\u001b[39;49m]\n",
      "File \u001b[1;32m~\\AppData\\Local\\Packages\\PythonSoftwareFoundation.Python.3.10_qbz5n2kfra8p0\\LocalCache\\local-packages\\Python310\\site-packages\\bs4\\element.py:1519\u001b[0m, in \u001b[0;36mTag.__getitem__\u001b[1;34m(self, key)\u001b[0m\n\u001b[0;32m   1516\u001b[0m \u001b[39mdef\u001b[39;00m \u001b[39m__getitem__\u001b[39m(\u001b[39mself\u001b[39m, key):\n\u001b[0;32m   1517\u001b[0m     \u001b[39m\"\"\"tag[key] returns the value of the 'key' attribute for the Tag,\u001b[39;00m\n\u001b[0;32m   1518\u001b[0m \u001b[39m    and throws an exception if it's not there.\"\"\"\u001b[39;00m\n\u001b[1;32m-> 1519\u001b[0m     \u001b[39mreturn\u001b[39;00m \u001b[39mself\u001b[39;49m\u001b[39m.\u001b[39;49mattrs[key]\n",
      "\u001b[1;31mKeyError\u001b[0m: 'class'"
     ]
    }
   ],
   "source": [
    "tag_a['class']"
   ]
  },
  {
   "cell_type": "code",
   "execution_count": null,
   "metadata": {},
   "outputs": [],
   "source": []
  }
 ],
 "metadata": {
  "kernelspec": {
   "display_name": "Python 3.10.5 64-bit (windows store)",
   "language": "python",
   "name": "python3"
  },
  "language_info": {
   "codemirror_mode": {
    "name": "ipython",
    "version": 3
   },
   "file_extension": ".py",
   "mimetype": "text/x-python",
   "name": "python",
   "nbconvert_exporter": "python",
   "pygments_lexer": "ipython3",
   "version": "3.10.5"
  },
  "orig_nbformat": 4,
  "vscode": {
   "interpreter": {
    "hash": "8bf0d51478355d2251941b3b98616086516a0eddd7c72ee47a3371765770709a"
   }
  }
 },
 "nbformat": 4,
 "nbformat_minor": 2
}
